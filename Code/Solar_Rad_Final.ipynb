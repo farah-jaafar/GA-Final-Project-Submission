{
 "cells": [
  {
   "cell_type": "markdown",
   "id": "953fa6a6",
   "metadata": {},
   "source": [
    "# APP ON SOLAR PREDICTION DATASET\n",
    "\n",
    "This dataset originally use for the prediction of solar radiation. The data was collected within September through December of 2016. However in this work project, we will be looking at:\n",
    "1. At what time of the day during these four months, that the radiation is strong or measured in high value?\n",
    "2. At what time of the day during these four months, that the radiation is at the lowest value?\n",
    "\n",
    "\n",
    "3. Plotting:\n",
    "    - Amount of data collected for each month\n",
    "    - The relationship betweens:\n",
    "       - An occurrence of Temperature vs Radiation\n",
    "       - An occurrence of Pressure vs Radiation\n",
    "      \n",
    "      \n",
    "4. User input functions:\n",
    "   - Temperature conversion\n",
    "   - Determination of Wind Directions\n",
    "   \n",
    "Below are the data dictionary which stated the units of each data columns:\n",
    "- Solar radiation: W/m2 (Watts per meter^2)\n",
    "- Temperature: ℉ (Degrees Fahrenheit)\n",
    "- Barometric pressure: Hg\n",
    "- Humidity: %\n",
    "- Wind direction: Degrees\n",
    "- Wind speed: MPH (Miles per hour)\n",
    "- Sunrise/sunset: GMT-10 (Hawaii time)"
   ]
  },
  {
   "cell_type": "markdown",
   "id": "412c9fd1",
   "metadata": {},
   "source": [
    "## Step 1:\n",
    "### Importing pandas, numpy, matplotlib.pyplot, datetime, seaborn"
   ]
  },
  {
   "cell_type": "code",
   "execution_count": 1,
   "id": "0f4f0691",
   "metadata": {},
   "outputs": [],
   "source": [
    "import pandas as pd\n",
    "import numpy as np\n",
    "import matplotlib.pyplot as plt\n",
    "import seaborn as sb\n",
    "from datetime import datetime\n",
    "\n",
    "#set the plot to be display in the Jupyter Notebook\n",
    "%matplotlib inline\n",
    "\n",
    "# Use to change the color of the plot\n",
    "plt.style.use('tableau-colorblind10')\n",
    "\n",
    "# Set the figure and font size of the plot\n",
    "plt.rcParams['figure.figsize'] = (8, 6)\n",
    "plt.rcParams['font.size'] = 10"
   ]
  },
  {
   "cell_type": "markdown",
   "id": "1283fca1",
   "metadata": {},
   "source": [
    "## Step 2:\n",
    "### Load the dataset into Jupyter Notebook and extracting the basic information of the dataset:"
   ]
  },
  {
   "cell_type": "code",
   "execution_count": 3,
   "id": "d54148a4",
   "metadata": {},
   "outputs": [
    {
     "data": {
      "text/html": [
       "<div>\n",
       "<style scoped>\n",
       "    .dataframe tbody tr th:only-of-type {\n",
       "        vertical-align: middle;\n",
       "    }\n",
       "\n",
       "    .dataframe tbody tr th {\n",
       "        vertical-align: top;\n",
       "    }\n",
       "\n",
       "    .dataframe thead th {\n",
       "        text-align: right;\n",
       "    }\n",
       "</style>\n",
       "<table border=\"1\" class=\"dataframe\">\n",
       "  <thead>\n",
       "    <tr style=\"text-align: right;\">\n",
       "      <th></th>\n",
       "      <th>UNIXTime</th>\n",
       "      <th>Data</th>\n",
       "      <th>Time</th>\n",
       "      <th>Radiation</th>\n",
       "      <th>Temperature</th>\n",
       "      <th>Pressure</th>\n",
       "      <th>Humidity</th>\n",
       "      <th>WindDirection(Degrees)</th>\n",
       "      <th>Speed</th>\n",
       "      <th>TimeSunRise</th>\n",
       "      <th>TimeSunSet</th>\n",
       "    </tr>\n",
       "  </thead>\n",
       "  <tbody>\n",
       "    <tr>\n",
       "      <th>0</th>\n",
       "      <td>1475229326</td>\n",
       "      <td>9/29/2016 12:00:00 AM</td>\n",
       "      <td>23:55:26</td>\n",
       "      <td>1.21</td>\n",
       "      <td>48</td>\n",
       "      <td>30.46</td>\n",
       "      <td>59</td>\n",
       "      <td>177.39</td>\n",
       "      <td>5.62</td>\n",
       "      <td>06:13:00</td>\n",
       "      <td>18:13:00</td>\n",
       "    </tr>\n",
       "    <tr>\n",
       "      <th>1</th>\n",
       "      <td>1475229023</td>\n",
       "      <td>9/29/2016 12:00:00 AM</td>\n",
       "      <td>23:50:23</td>\n",
       "      <td>1.21</td>\n",
       "      <td>48</td>\n",
       "      <td>30.46</td>\n",
       "      <td>58</td>\n",
       "      <td>176.78</td>\n",
       "      <td>3.37</td>\n",
       "      <td>06:13:00</td>\n",
       "      <td>18:13:00</td>\n",
       "    </tr>\n",
       "    <tr>\n",
       "      <th>2</th>\n",
       "      <td>1475228726</td>\n",
       "      <td>9/29/2016 12:00:00 AM</td>\n",
       "      <td>23:45:26</td>\n",
       "      <td>1.23</td>\n",
       "      <td>48</td>\n",
       "      <td>30.46</td>\n",
       "      <td>57</td>\n",
       "      <td>158.75</td>\n",
       "      <td>3.37</td>\n",
       "      <td>06:13:00</td>\n",
       "      <td>18:13:00</td>\n",
       "    </tr>\n",
       "    <tr>\n",
       "      <th>3</th>\n",
       "      <td>1475228421</td>\n",
       "      <td>9/29/2016 12:00:00 AM</td>\n",
       "      <td>23:40:21</td>\n",
       "      <td>1.21</td>\n",
       "      <td>48</td>\n",
       "      <td>30.46</td>\n",
       "      <td>60</td>\n",
       "      <td>137.71</td>\n",
       "      <td>3.37</td>\n",
       "      <td>06:13:00</td>\n",
       "      <td>18:13:00</td>\n",
       "    </tr>\n",
       "    <tr>\n",
       "      <th>4</th>\n",
       "      <td>1475228124</td>\n",
       "      <td>9/29/2016 12:00:00 AM</td>\n",
       "      <td>23:35:24</td>\n",
       "      <td>1.17</td>\n",
       "      <td>48</td>\n",
       "      <td>30.46</td>\n",
       "      <td>62</td>\n",
       "      <td>104.95</td>\n",
       "      <td>5.62</td>\n",
       "      <td>06:13:00</td>\n",
       "      <td>18:13:00</td>\n",
       "    </tr>\n",
       "  </tbody>\n",
       "</table>\n",
       "</div>"
      ],
      "text/plain": [
       "     UNIXTime                   Data      Time  Radiation  Temperature  \\\n",
       "0  1475229326  9/29/2016 12:00:00 AM  23:55:26       1.21           48   \n",
       "1  1475229023  9/29/2016 12:00:00 AM  23:50:23       1.21           48   \n",
       "2  1475228726  9/29/2016 12:00:00 AM  23:45:26       1.23           48   \n",
       "3  1475228421  9/29/2016 12:00:00 AM  23:40:21       1.21           48   \n",
       "4  1475228124  9/29/2016 12:00:00 AM  23:35:24       1.17           48   \n",
       "\n",
       "   Pressure  Humidity  WindDirection(Degrees)  Speed TimeSunRise TimeSunSet  \n",
       "0     30.46        59                  177.39   5.62    06:13:00   18:13:00  \n",
       "1     30.46        58                  176.78   3.37    06:13:00   18:13:00  \n",
       "2     30.46        57                  158.75   3.37    06:13:00   18:13:00  \n",
       "3     30.46        60                  137.71   3.37    06:13:00   18:13:00  \n",
       "4     30.46        62                  104.95   5.62    06:13:00   18:13:00  "
      ]
     },
     "execution_count": 3,
     "metadata": {},
     "output_type": "execute_result"
    }
   ],
   "source": [
    "# Read the csv file\n",
    "solar_rad = pd.read_csv(\"../data/SolarPrediction.csv\")\n",
    "\n",
    "# Show first 5 dataframe\n",
    "solar_rad.head()"
   ]
  },
  {
   "cell_type": "code",
   "execution_count": 4,
   "id": "cb65af4d",
   "metadata": {},
   "outputs": [
    {
     "data": {
      "text/plain": [
       "(32686, 11)"
      ]
     },
     "execution_count": 4,
     "metadata": {},
     "output_type": "execute_result"
    }
   ],
   "source": [
    "# checking the shape of the data: rows and columns\n",
    "solar_rad.shape"
   ]
  },
  {
   "cell_type": "code",
   "execution_count": 5,
   "id": "7c376390",
   "metadata": {},
   "outputs": [
    {
     "data": {
      "text/plain": [
       "UNIXTime                    int64\n",
       "Data                       object\n",
       "Time                       object\n",
       "Radiation                 float64\n",
       "Temperature                 int64\n",
       "Pressure                  float64\n",
       "Humidity                    int64\n",
       "WindDirection(Degrees)    float64\n",
       "Speed                     float64\n",
       "TimeSunRise                object\n",
       "TimeSunSet                 object\n",
       "dtype: object"
      ]
     },
     "execution_count": 5,
     "metadata": {},
     "output_type": "execute_result"
    }
   ],
   "source": [
    "# checking type of every columns of the data\n",
    "# output: int64, float64, object == string\n",
    "solar_rad.dtypes"
   ]
  },
  {
   "cell_type": "code",
   "execution_count": 6,
   "id": "a1f8df28",
   "metadata": {},
   "outputs": [
    {
     "name": "stdout",
     "output_type": "stream",
     "text": [
      "<class 'pandas.core.frame.DataFrame'>\n",
      "RangeIndex: 32686 entries, 0 to 32685\n",
      "Data columns (total 11 columns):\n",
      " #   Column                  Non-Null Count  Dtype  \n",
      "---  ------                  --------------  -----  \n",
      " 0   UNIXTime                32686 non-null  int64  \n",
      " 1   Data                    32686 non-null  object \n",
      " 2   Time                    32686 non-null  object \n",
      " 3   Radiation               32686 non-null  float64\n",
      " 4   Temperature             32686 non-null  int64  \n",
      " 5   Pressure                32686 non-null  float64\n",
      " 6   Humidity                32686 non-null  int64  \n",
      " 7   WindDirection(Degrees)  32686 non-null  float64\n",
      " 8   Speed                   32686 non-null  float64\n",
      " 9   TimeSunRise             32686 non-null  object \n",
      " 10  TimeSunSet              32686 non-null  object \n",
      "dtypes: float64(4), int64(3), object(4)\n",
      "memory usage: 2.7+ MB\n"
     ]
    }
   ],
   "source": [
    "# checking if the dataframe contain any null\n",
    "solar_rad.info()"
   ]
  },
  {
   "cell_type": "code",
   "execution_count": 7,
   "id": "abdb3fe8",
   "metadata": {},
   "outputs": [],
   "source": [
    "# Reset the index\n",
    "solar_rad.set_index('UNIXTime', inplace=True)"
   ]
  },
  {
   "cell_type": "code",
   "execution_count": 8,
   "id": "32c73c63",
   "metadata": {},
   "outputs": [
    {
     "data": {
      "text/html": [
       "<div>\n",
       "<style scoped>\n",
       "    .dataframe tbody tr th:only-of-type {\n",
       "        vertical-align: middle;\n",
       "    }\n",
       "\n",
       "    .dataframe tbody tr th {\n",
       "        vertical-align: top;\n",
       "    }\n",
       "\n",
       "    .dataframe thead th {\n",
       "        text-align: right;\n",
       "    }\n",
       "</style>\n",
       "<table border=\"1\" class=\"dataframe\">\n",
       "  <thead>\n",
       "    <tr style=\"text-align: right;\">\n",
       "      <th></th>\n",
       "      <th>Data</th>\n",
       "      <th>Time</th>\n",
       "      <th>Radiation</th>\n",
       "      <th>Temperature</th>\n",
       "      <th>Pressure</th>\n",
       "      <th>Humidity</th>\n",
       "      <th>WindDirection(Degrees)</th>\n",
       "      <th>Speed</th>\n",
       "      <th>TimeSunRise</th>\n",
       "      <th>TimeSunSet</th>\n",
       "    </tr>\n",
       "    <tr>\n",
       "      <th>UNIXTime</th>\n",
       "      <th></th>\n",
       "      <th></th>\n",
       "      <th></th>\n",
       "      <th></th>\n",
       "      <th></th>\n",
       "      <th></th>\n",
       "      <th></th>\n",
       "      <th></th>\n",
       "      <th></th>\n",
       "      <th></th>\n",
       "    </tr>\n",
       "  </thead>\n",
       "  <tbody>\n",
       "    <tr>\n",
       "      <th>1475229326</th>\n",
       "      <td>9/29/2016 12:00:00 AM</td>\n",
       "      <td>23:55:26</td>\n",
       "      <td>1.21</td>\n",
       "      <td>48</td>\n",
       "      <td>30.46</td>\n",
       "      <td>59</td>\n",
       "      <td>177.39</td>\n",
       "      <td>5.62</td>\n",
       "      <td>06:13:00</td>\n",
       "      <td>18:13:00</td>\n",
       "    </tr>\n",
       "    <tr>\n",
       "      <th>1475229023</th>\n",
       "      <td>9/29/2016 12:00:00 AM</td>\n",
       "      <td>23:50:23</td>\n",
       "      <td>1.21</td>\n",
       "      <td>48</td>\n",
       "      <td>30.46</td>\n",
       "      <td>58</td>\n",
       "      <td>176.78</td>\n",
       "      <td>3.37</td>\n",
       "      <td>06:13:00</td>\n",
       "      <td>18:13:00</td>\n",
       "    </tr>\n",
       "    <tr>\n",
       "      <th>1475228726</th>\n",
       "      <td>9/29/2016 12:00:00 AM</td>\n",
       "      <td>23:45:26</td>\n",
       "      <td>1.23</td>\n",
       "      <td>48</td>\n",
       "      <td>30.46</td>\n",
       "      <td>57</td>\n",
       "      <td>158.75</td>\n",
       "      <td>3.37</td>\n",
       "      <td>06:13:00</td>\n",
       "      <td>18:13:00</td>\n",
       "    </tr>\n",
       "    <tr>\n",
       "      <th>1475228421</th>\n",
       "      <td>9/29/2016 12:00:00 AM</td>\n",
       "      <td>23:40:21</td>\n",
       "      <td>1.21</td>\n",
       "      <td>48</td>\n",
       "      <td>30.46</td>\n",
       "      <td>60</td>\n",
       "      <td>137.71</td>\n",
       "      <td>3.37</td>\n",
       "      <td>06:13:00</td>\n",
       "      <td>18:13:00</td>\n",
       "    </tr>\n",
       "    <tr>\n",
       "      <th>1475228124</th>\n",
       "      <td>9/29/2016 12:00:00 AM</td>\n",
       "      <td>23:35:24</td>\n",
       "      <td>1.17</td>\n",
       "      <td>48</td>\n",
       "      <td>30.46</td>\n",
       "      <td>62</td>\n",
       "      <td>104.95</td>\n",
       "      <td>5.62</td>\n",
       "      <td>06:13:00</td>\n",
       "      <td>18:13:00</td>\n",
       "    </tr>\n",
       "  </tbody>\n",
       "</table>\n",
       "</div>"
      ],
      "text/plain": [
       "                             Data      Time  Radiation  Temperature  Pressure  \\\n",
       "UNIXTime                                                                        \n",
       "1475229326  9/29/2016 12:00:00 AM  23:55:26       1.21           48     30.46   \n",
       "1475229023  9/29/2016 12:00:00 AM  23:50:23       1.21           48     30.46   \n",
       "1475228726  9/29/2016 12:00:00 AM  23:45:26       1.23           48     30.46   \n",
       "1475228421  9/29/2016 12:00:00 AM  23:40:21       1.21           48     30.46   \n",
       "1475228124  9/29/2016 12:00:00 AM  23:35:24       1.17           48     30.46   \n",
       "\n",
       "            Humidity  WindDirection(Degrees)  Speed TimeSunRise TimeSunSet  \n",
       "UNIXTime                                                                    \n",
       "1475229326        59                  177.39   5.62    06:13:00   18:13:00  \n",
       "1475229023        58                  176.78   3.37    06:13:00   18:13:00  \n",
       "1475228726        57                  158.75   3.37    06:13:00   18:13:00  \n",
       "1475228421        60                  137.71   3.37    06:13:00   18:13:00  \n",
       "1475228124        62                  104.95   5.62    06:13:00   18:13:00  "
      ]
     },
     "execution_count": 8,
     "metadata": {},
     "output_type": "execute_result"
    }
   ],
   "source": [
    "solar_rad.head()"
   ]
  },
  {
   "cell_type": "code",
   "execution_count": 12,
   "id": "9c093ed2",
   "metadata": {},
   "outputs": [
    {
     "data": {
      "text/html": [
       "<div>\n",
       "<style scoped>\n",
       "    .dataframe tbody tr th:only-of-type {\n",
       "        vertical-align: middle;\n",
       "    }\n",
       "\n",
       "    .dataframe tbody tr th {\n",
       "        vertical-align: top;\n",
       "    }\n",
       "\n",
       "    .dataframe thead th {\n",
       "        text-align: right;\n",
       "    }\n",
       "</style>\n",
       "<table border=\"1\" class=\"dataframe\">\n",
       "  <thead>\n",
       "    <tr style=\"text-align: right;\">\n",
       "      <th></th>\n",
       "      <th>Data</th>\n",
       "      <th>Time</th>\n",
       "      <th>Radiation (W/m^2)</th>\n",
       "      <th>Temperature (℉)</th>\n",
       "      <th>Pressure (Hg)</th>\n",
       "      <th>Humidity (%)</th>\n",
       "      <th>WindDirection (Degrees)</th>\n",
       "      <th>WindSpeed (mph)</th>\n",
       "      <th>TimeSunRise</th>\n",
       "      <th>TimeSunSet</th>\n",
       "    </tr>\n",
       "    <tr>\n",
       "      <th>UNIXTime</th>\n",
       "      <th></th>\n",
       "      <th></th>\n",
       "      <th></th>\n",
       "      <th></th>\n",
       "      <th></th>\n",
       "      <th></th>\n",
       "      <th></th>\n",
       "      <th></th>\n",
       "      <th></th>\n",
       "      <th></th>\n",
       "    </tr>\n",
       "  </thead>\n",
       "  <tbody>\n",
       "    <tr>\n",
       "      <th>1475229326</th>\n",
       "      <td>9/29/2016 12:00:00 AM</td>\n",
       "      <td>23:55:26</td>\n",
       "      <td>1.21</td>\n",
       "      <td>48</td>\n",
       "      <td>30.46</td>\n",
       "      <td>59</td>\n",
       "      <td>177.39</td>\n",
       "      <td>5.62</td>\n",
       "      <td>06:13:00</td>\n",
       "      <td>18:13:00</td>\n",
       "    </tr>\n",
       "    <tr>\n",
       "      <th>1475229023</th>\n",
       "      <td>9/29/2016 12:00:00 AM</td>\n",
       "      <td>23:50:23</td>\n",
       "      <td>1.21</td>\n",
       "      <td>48</td>\n",
       "      <td>30.46</td>\n",
       "      <td>58</td>\n",
       "      <td>176.78</td>\n",
       "      <td>3.37</td>\n",
       "      <td>06:13:00</td>\n",
       "      <td>18:13:00</td>\n",
       "    </tr>\n",
       "    <tr>\n",
       "      <th>1475228726</th>\n",
       "      <td>9/29/2016 12:00:00 AM</td>\n",
       "      <td>23:45:26</td>\n",
       "      <td>1.23</td>\n",
       "      <td>48</td>\n",
       "      <td>30.46</td>\n",
       "      <td>57</td>\n",
       "      <td>158.75</td>\n",
       "      <td>3.37</td>\n",
       "      <td>06:13:00</td>\n",
       "      <td>18:13:00</td>\n",
       "    </tr>\n",
       "    <tr>\n",
       "      <th>1475228421</th>\n",
       "      <td>9/29/2016 12:00:00 AM</td>\n",
       "      <td>23:40:21</td>\n",
       "      <td>1.21</td>\n",
       "      <td>48</td>\n",
       "      <td>30.46</td>\n",
       "      <td>60</td>\n",
       "      <td>137.71</td>\n",
       "      <td>3.37</td>\n",
       "      <td>06:13:00</td>\n",
       "      <td>18:13:00</td>\n",
       "    </tr>\n",
       "    <tr>\n",
       "      <th>1475228124</th>\n",
       "      <td>9/29/2016 12:00:00 AM</td>\n",
       "      <td>23:35:24</td>\n",
       "      <td>1.17</td>\n",
       "      <td>48</td>\n",
       "      <td>30.46</td>\n",
       "      <td>62</td>\n",
       "      <td>104.95</td>\n",
       "      <td>5.62</td>\n",
       "      <td>06:13:00</td>\n",
       "      <td>18:13:00</td>\n",
       "    </tr>\n",
       "  </tbody>\n",
       "</table>\n",
       "</div>"
      ],
      "text/plain": [
       "                             Data      Time  Radiation (W/m^2)  \\\n",
       "UNIXTime                                                         \n",
       "1475229326  9/29/2016 12:00:00 AM  23:55:26               1.21   \n",
       "1475229023  9/29/2016 12:00:00 AM  23:50:23               1.21   \n",
       "1475228726  9/29/2016 12:00:00 AM  23:45:26               1.23   \n",
       "1475228421  9/29/2016 12:00:00 AM  23:40:21               1.21   \n",
       "1475228124  9/29/2016 12:00:00 AM  23:35:24               1.17   \n",
       "\n",
       "            Temperature (℉)  Pressure (Hg)  Humidity (%)  \\\n",
       "UNIXTime                                                   \n",
       "1475229326               48          30.46            59   \n",
       "1475229023               48          30.46            58   \n",
       "1475228726               48          30.46            57   \n",
       "1475228421               48          30.46            60   \n",
       "1475228124               48          30.46            62   \n",
       "\n",
       "            WindDirection (Degrees)  WindSpeed (mph) TimeSunRise TimeSunSet  \n",
       "UNIXTime                                                                     \n",
       "1475229326                   177.39             5.62    06:13:00   18:13:00  \n",
       "1475229023                   176.78             3.37    06:13:00   18:13:00  \n",
       "1475228726                   158.75             3.37    06:13:00   18:13:00  \n",
       "1475228421                   137.71             3.37    06:13:00   18:13:00  \n",
       "1475228124                   104.95             5.62    06:13:00   18:13:00  "
      ]
     },
     "execution_count": 12,
     "metadata": {},
     "output_type": "execute_result"
    }
   ],
   "source": [
    "# Rename the columns\n",
    "solar_rad.rename(columns={'Radiation':'Radiation (W/m^2)', 'Temperature':'Temperature (℉)','Humidity':'Humidity (%)', 'Pressure':'Pressure (Hg)', 'WindDirection(Degrees)':'WindDirection (Degrees)', 'Speed':'WindSpeed (mph)'}, inplace=True)\n",
    "solar_rad.head()"
   ]
  },
  {
   "cell_type": "markdown",
   "id": "1ce39ac9",
   "metadata": {},
   "source": [
    "## Step 3: Determine the maximum and minimum of radiation values\n",
    "### 1: At what time of the day during these four months, that the radiation is strong or measured in high value? and what is the respectives temperature, pressure and humidity."
   ]
  },
  {
   "cell_type": "code",
   "execution_count": 13,
   "id": "634a612a",
   "metadata": {},
   "outputs": [
    {
     "data": {
      "text/html": [
       "<div>\n",
       "<style scoped>\n",
       "    .dataframe tbody tr th:only-of-type {\n",
       "        vertical-align: middle;\n",
       "    }\n",
       "\n",
       "    .dataframe tbody tr th {\n",
       "        vertical-align: top;\n",
       "    }\n",
       "\n",
       "    .dataframe thead th {\n",
       "        text-align: right;\n",
       "    }\n",
       "</style>\n",
       "<table border=\"1\" class=\"dataframe\">\n",
       "  <thead>\n",
       "    <tr style=\"text-align: right;\">\n",
       "      <th></th>\n",
       "      <th></th>\n",
       "      <th>Radiation (W/m^2)</th>\n",
       "      <th>Temperature (℉)</th>\n",
       "      <th>Pressure (Hg)</th>\n",
       "      <th>Humidity (%)</th>\n",
       "    </tr>\n",
       "    <tr>\n",
       "      <th>Time</th>\n",
       "      <th>Data</th>\n",
       "      <th></th>\n",
       "      <th></th>\n",
       "      <th></th>\n",
       "      <th></th>\n",
       "    </tr>\n",
       "  </thead>\n",
       "  <tbody>\n",
       "    <tr>\n",
       "      <th>12:15:04</th>\n",
       "      <th>9/4/2016 12:00:00 AM</th>\n",
       "      <td>1601.26</td>\n",
       "      <td>61</td>\n",
       "      <td>30.47</td>\n",
       "      <td>93</td>\n",
       "    </tr>\n",
       "  </tbody>\n",
       "</table>\n",
       "</div>"
      ],
      "text/plain": [
       "                               Radiation (W/m^2)  Temperature (℉)  \\\n",
       "Time     Data                                                       \n",
       "12:15:04 9/4/2016 12:00:00 AM            1601.26               61   \n",
       "\n",
       "                               Pressure (Hg)  Humidity (%)  \n",
       "Time     Data                                               \n",
       "12:15:04 9/4/2016 12:00:00 AM          30.47            93  "
      ]
     },
     "execution_count": 13,
     "metadata": {},
     "output_type": "execute_result"
    }
   ],
   "source": [
    "solar_rad[['Data', 'Time', 'Radiation (W/m^2)', 'Temperature (℉)', 'Pressure (Hg)', 'Humidity (%)']].groupby(by=['Time', 'Data']).max().sort_values('Radiation (W/m^2)', ascending=False).head(1)"
   ]
  },
  {
   "cell_type": "markdown",
   "id": "824b967c",
   "metadata": {},
   "source": [
    "### 2: At what time of the day during these four months, that the radiation is at lowest value? and what is the respectives temperature, pressure and humidity."
   ]
  },
  {
   "cell_type": "code",
   "execution_count": 14,
   "id": "d5e642a1",
   "metadata": {},
   "outputs": [
    {
     "data": {
      "text/html": [
       "<div>\n",
       "<style scoped>\n",
       "    .dataframe tbody tr th:only-of-type {\n",
       "        vertical-align: middle;\n",
       "    }\n",
       "\n",
       "    .dataframe tbody tr th {\n",
       "        vertical-align: top;\n",
       "    }\n",
       "\n",
       "    .dataframe thead th {\n",
       "        text-align: right;\n",
       "    }\n",
       "</style>\n",
       "<table border=\"1\" class=\"dataframe\">\n",
       "  <thead>\n",
       "    <tr style=\"text-align: right;\">\n",
       "      <th></th>\n",
       "      <th></th>\n",
       "      <th>Radiation (W/m^2)</th>\n",
       "      <th>Temperature (℉)</th>\n",
       "      <th>Pressure (Hg)</th>\n",
       "      <th>Humidity (%)</th>\n",
       "    </tr>\n",
       "    <tr>\n",
       "      <th>Time</th>\n",
       "      <th>Data</th>\n",
       "      <th></th>\n",
       "      <th></th>\n",
       "      <th></th>\n",
       "      <th></th>\n",
       "    </tr>\n",
       "  </thead>\n",
       "  <tbody>\n",
       "    <tr>\n",
       "      <th>02:50:49</th>\n",
       "      <th>12/29/2016 12:00:00 AM</th>\n",
       "      <td>1.11</td>\n",
       "      <td>37</td>\n",
       "      <td>30.35</td>\n",
       "      <td>54</td>\n",
       "    </tr>\n",
       "  </tbody>\n",
       "</table>\n",
       "</div>"
      ],
      "text/plain": [
       "                                 Radiation (W/m^2)  Temperature (℉)  \\\n",
       "Time     Data                                                         \n",
       "02:50:49 12/29/2016 12:00:00 AM               1.11               37   \n",
       "\n",
       "                                 Pressure (Hg)  Humidity (%)  \n",
       "Time     Data                                                 \n",
       "02:50:49 12/29/2016 12:00:00 AM          30.35            54  "
      ]
     },
     "execution_count": 14,
     "metadata": {},
     "output_type": "execute_result"
    }
   ],
   "source": [
    "solar_rad[['Data', 'Time', 'Radiation (W/m^2)', 'Temperature (℉)', 'Pressure (Hg)', 'Humidity (%)']].groupby(by=['Time', 'Data']).min().sort_values('Radiation (W/m^2)').head(1)"
   ]
  },
  {
   "cell_type": "markdown",
   "id": "ae0de1c5",
   "metadata": {},
   "source": [
    "## Step 4:\n",
    "### Show how many data is collected for each months: plot"
   ]
  },
  {
   "cell_type": "code",
   "execution_count": 15,
   "id": "6f778210",
   "metadata": {},
   "outputs": [],
   "source": [
    "# Add a new column name \"Month\"\n",
    "solar_rad['Month'] = pd.to_datetime(solar_rad['Data']).dt.month"
   ]
  },
  {
   "cell_type": "code",
   "execution_count": 16,
   "id": "6b9b6940",
   "metadata": {},
   "outputs": [
    {
     "data": {
      "text/html": [
       "<div>\n",
       "<style scoped>\n",
       "    .dataframe tbody tr th:only-of-type {\n",
       "        vertical-align: middle;\n",
       "    }\n",
       "\n",
       "    .dataframe tbody tr th {\n",
       "        vertical-align: top;\n",
       "    }\n",
       "\n",
       "    .dataframe thead th {\n",
       "        text-align: right;\n",
       "    }\n",
       "</style>\n",
       "<table border=\"1\" class=\"dataframe\">\n",
       "  <thead>\n",
       "    <tr style=\"text-align: right;\">\n",
       "      <th></th>\n",
       "      <th>Data</th>\n",
       "      <th>Time</th>\n",
       "      <th>Radiation (W/m^2)</th>\n",
       "      <th>Temperature (℉)</th>\n",
       "      <th>Pressure (Hg)</th>\n",
       "      <th>Humidity (%)</th>\n",
       "      <th>WindDirection (Degrees)</th>\n",
       "      <th>WindSpeed (mph)</th>\n",
       "      <th>TimeSunRise</th>\n",
       "      <th>TimeSunSet</th>\n",
       "      <th>Month</th>\n",
       "    </tr>\n",
       "    <tr>\n",
       "      <th>UNIXTime</th>\n",
       "      <th></th>\n",
       "      <th></th>\n",
       "      <th></th>\n",
       "      <th></th>\n",
       "      <th></th>\n",
       "      <th></th>\n",
       "      <th></th>\n",
       "      <th></th>\n",
       "      <th></th>\n",
       "      <th></th>\n",
       "      <th></th>\n",
       "    </tr>\n",
       "  </thead>\n",
       "  <tbody>\n",
       "    <tr>\n",
       "      <th>1475229326</th>\n",
       "      <td>9/29/2016 12:00:00 AM</td>\n",
       "      <td>23:55:26</td>\n",
       "      <td>1.21</td>\n",
       "      <td>48</td>\n",
       "      <td>30.46</td>\n",
       "      <td>59</td>\n",
       "      <td>177.39</td>\n",
       "      <td>5.62</td>\n",
       "      <td>06:13:00</td>\n",
       "      <td>18:13:00</td>\n",
       "      <td>9</td>\n",
       "    </tr>\n",
       "    <tr>\n",
       "      <th>1475229023</th>\n",
       "      <td>9/29/2016 12:00:00 AM</td>\n",
       "      <td>23:50:23</td>\n",
       "      <td>1.21</td>\n",
       "      <td>48</td>\n",
       "      <td>30.46</td>\n",
       "      <td>58</td>\n",
       "      <td>176.78</td>\n",
       "      <td>3.37</td>\n",
       "      <td>06:13:00</td>\n",
       "      <td>18:13:00</td>\n",
       "      <td>9</td>\n",
       "    </tr>\n",
       "    <tr>\n",
       "      <th>1475228726</th>\n",
       "      <td>9/29/2016 12:00:00 AM</td>\n",
       "      <td>23:45:26</td>\n",
       "      <td>1.23</td>\n",
       "      <td>48</td>\n",
       "      <td>30.46</td>\n",
       "      <td>57</td>\n",
       "      <td>158.75</td>\n",
       "      <td>3.37</td>\n",
       "      <td>06:13:00</td>\n",
       "      <td>18:13:00</td>\n",
       "      <td>9</td>\n",
       "    </tr>\n",
       "  </tbody>\n",
       "</table>\n",
       "</div>"
      ],
      "text/plain": [
       "                             Data      Time  Radiation (W/m^2)  \\\n",
       "UNIXTime                                                         \n",
       "1475229326  9/29/2016 12:00:00 AM  23:55:26               1.21   \n",
       "1475229023  9/29/2016 12:00:00 AM  23:50:23               1.21   \n",
       "1475228726  9/29/2016 12:00:00 AM  23:45:26               1.23   \n",
       "\n",
       "            Temperature (℉)  Pressure (Hg)  Humidity (%)  \\\n",
       "UNIXTime                                                   \n",
       "1475229326               48          30.46            59   \n",
       "1475229023               48          30.46            58   \n",
       "1475228726               48          30.46            57   \n",
       "\n",
       "            WindDirection (Degrees)  WindSpeed (mph) TimeSunRise TimeSunSet  \\\n",
       "UNIXTime                                                                      \n",
       "1475229326                   177.39             5.62    06:13:00   18:13:00   \n",
       "1475229023                   176.78             3.37    06:13:00   18:13:00   \n",
       "1475228726                   158.75             3.37    06:13:00   18:13:00   \n",
       "\n",
       "            Month  \n",
       "UNIXTime           \n",
       "1475229326      9  \n",
       "1475229023      9  \n",
       "1475228726      9  "
      ]
     },
     "execution_count": 16,
     "metadata": {},
     "output_type": "execute_result"
    }
   ],
   "source": [
    "# Check is the new column succesfull created or not\n",
    "solar_rad.head(3)"
   ]
  },
  {
   "cell_type": "markdown",
   "id": "bbd82a36",
   "metadata": {},
   "source": [
    "### 3. Plotting\n",
    "#### - Amount of data collected for each month"
   ]
  },
  {
   "cell_type": "code",
   "execution_count": 17,
   "id": "9964ef46",
   "metadata": {},
   "outputs": [
    {
     "data": {
      "text/plain": [
       "10    8821\n",
       "11    8284\n",
       "12    8164\n",
       "9     7417\n",
       "Name: Month, dtype: int64"
      ]
     },
     "execution_count": 17,
     "metadata": {},
     "output_type": "execute_result"
    },
    {
     "data": {
      "image/png": "[encoded data removed]",
      "text/plain": [
       "<Figure size 576x432 with 1 Axes>"
      ]
     },
     "metadata": {
      "needs_background": "light"
     },
     "output_type": "display_data"
    }
   ],
   "source": [
    "# showing data collection of each month\n",
    "plt.style.use('tableau-colorblind10')\n",
    "solar_rad['Month'].value_counts().plot(kind='bar');\n",
    "plt.xlabel('Month')\n",
    "plt.ylabel('Amt of Data Collected')\n",
    "solar_rad['Month'].value_counts()"
   ]
  },
  {
   "cell_type": "markdown",
   "id": "172f0008",
   "metadata": {},
   "source": [
    "#### - An occurrence of Temperature vs Radiation"
   ]
  },
  {
   "cell_type": "code",
   "execution_count": 67,
   "id": "865bdef1",
   "metadata": {},
   "outputs": [
    {
     "data": {
      "text/plain": [
       "<AxesSubplot:xlabel='Temperature (℉)', ylabel='Radiation (W/m^2)'>"
      ]
     },
     "execution_count": 67,
     "metadata": {},
     "output_type": "execute_result"
    },
    {
     "data": {
      "image/png": "[encoded data removed]",
      "text/plain": [
       "<Figure size 720x288 with 1 Axes>"
      ]
     },
     "metadata": {
      "needs_background": "light"
     },
     "output_type": "display_data"
    }
   ],
   "source": [
    "solar_rad.plot(kind='scatter', x='Temperature (℉)', y='Radiation (W/m^2)', \\\n",
    "               color='blue', figsize=(10,4), s=10, alpha=1)"
   ]
  },
  {
   "cell_type": "markdown",
   "id": "b3402ca4",
   "metadata": {},
   "source": [
    "#### - An occurrence of Pressure vs Radiation"
   ]
  },
  {
   "cell_type": "code",
   "execution_count": 68,
   "id": "48d58915",
   "metadata": {},
   "outputs": [
    {
     "data": {
      "text/plain": [
       "<AxesSubplot:xlabel='Pressure (Hg)', ylabel='Radiation (W/m^2)'>"
      ]
     },
     "execution_count": 68,
     "metadata": {},
     "output_type": "execute_result"
    },
    {
     "data": {
      "image/png": "[encoded data removed]",
      "text/plain": [
       "<Figure size 720x288 with 1 Axes>"
      ]
     },
     "metadata": {
      "needs_background": "light"
     },
     "output_type": "display_data"
    }
   ],
   "source": [
    "solar_rad.plot(kind='scatter', x='Pressure (Hg)', y='Radiation (W/m^2)', \\\n",
    "               color='blue', figsize=(10,4), s=10, alpha=1)"
   ]
  },
  {
   "cell_type": "markdown",
   "id": "f313cdd2",
   "metadata": {},
   "source": [
    "### 4: User Input Functions"
   ]
  },
  {
   "cell_type": "code",
   "execution_count": 70,
   "id": "bc1e9fe5",
   "metadata": {},
   "outputs": [],
   "source": [
    "class Solar_info:\n",
    "    \n",
    "    def __init__(self, date = solar_rad['Data']):\n",
    "        self.date = date\n",
    "    \n",
    "    def temp_conversion():   #any temp user enter that == temp in dataframe, convert to celcius\n",
    "        while True:\n",
    "            try:\n",
    "                temp_input = int(input('Enter the °F temperature to convert to °C:'))\n",
    "\n",
    "                for each_temp in (solar_rad['Temperature (℉)']):\n",
    "                    if temp_input == each_temp:\n",
    "                        temp_in_celcius = (temp_input-32)*(5/9)\n",
    "                        print('The Fahrenheit temperature of {}°F, is {:.2f}°C in Degree Celcius'.format(temp_input,temp_in_celcius))\n",
    "                        return\n",
    "\n",
    "            except Exception as ex:\n",
    "                print(\"The temperature format is incorrect: {}\".format(ex.args))\n",
    "                continue\n",
    "                \n",
    "                \n",
    "    def wind_direction():  #any value of wind in term of degree, found in dataframe, give user wind direction\n",
    "        \n",
    "        while True:\n",
    "            try:\n",
    "                direction_input = float(input('Enter the wind value:'))\n",
    "                \n",
    "                for each_wind in solar_rad['WindDirection (Degrees)']:\n",
    "                    \n",
    "                    if direction_input >= 350 and direction_input < 20:                 #statement 1\n",
    "                        print('The wind direction is {}°N'.format(direction_input))\n",
    "                        return\n",
    "\n",
    "                    if direction_input >= 20 and direction_input < 40:                 #statement 2\n",
    "                        print('The wind direction is N{}°NE'.format(direction_input))\n",
    "                        return\n",
    "\n",
    "                    if direction_input >= 40 and direction_input < 60:                 #statement 3\n",
    "                        print('The wind direction is {}°NE'.format(direction_input))\n",
    "                        return\n",
    "                        \n",
    "                    if direction_input >= 60 and direction_input < 80:                 #statement 4\n",
    "                        print('The wind direction is E{}°NE'.format(direction_input))\n",
    "                        return\n",
    "\n",
    "                    if direction_input >= 80 and direction_input < 110:                 #statement 5\n",
    "                        print('The wind direction is {}°E'.format(direction_input))\n",
    "                        return\n",
    "\n",
    "                    if direction_input >= 110 and direction_input < 130:                 #statement 6\n",
    "                        print('The wind direction is E{}°SE'.format(direction_input))\n",
    "                        return\n",
    "\n",
    "                    if direction_input >= 130 and direction_input < 150:                 #statement 7\n",
    "                        print('The wind direction is {}°SE'.format(direction_input))\n",
    "                        return\n",
    "\n",
    "                    if direction_input >= 150 and direction_input < 170:                 #statement 8\n",
    "                        print('The wind direction is S{}°SE'.format(direction_input))\n",
    "                        return\n",
    "\n",
    "                    if direction_input >= 170 and direction_input < 200:                 #statement 9\n",
    "                        print('The wind direction is {}°S'.format(direction_input))\n",
    "                        return\n",
    "\n",
    "                    if direction_input >= 200 and direction_input < 220:                 #statement 10\n",
    "                        print('The wind direction is S{}°SW'.format(direction_input))\n",
    "                        return\n",
    "\n",
    "                    if direction_input >= 220 and direction_input < 240:                 #statement 11\n",
    "                        print('The wind direction is {}°SW'.format(direction_input))\n",
    "                        return\n",
    "\n",
    "                    if direction_input >= 240 and direction_input < 260:                 #statement 12\n",
    "                        print('The wind direction is W{}°SW'.format(direction_input))\n",
    "                        return\n",
    "\n",
    "                    if direction_input >= 260 and direction_input < 290:                 #statement 13\n",
    "                        print('The wind direction is {}°W'.format(direction_input))\n",
    "                        return\n",
    "\n",
    "                    if direction_input >= 290 and direction_input < 310:                 #statement 14\n",
    "                        print('The wind direction is W{}°NW'.format(direction_input))\n",
    "                        return\n",
    "\n",
    "                    if direction_input >= 310 and direction_input < 330:                 #statement 15\n",
    "                        print('The wind direction is {}°NW'.format(direction_input))\n",
    "                        return\n",
    "\n",
    "                    if direction_input >= 330 and direction_input < 350:                 #statement 16\n",
    "                        print('The wind direction is N{}°NW'.format(direction_input))\n",
    "                        return\n",
    "\n",
    "            except Exception as ex:\n",
    "                print(\"There is an error: {}\".format(ex.args))\n",
    "                continue\n",
    "                "
   ]
  },
  {
   "cell_type": "code",
   "execution_count": 72,
   "id": "5872195d",
   "metadata": {},
   "outputs": [
    {
     "name": "stdout",
     "output_type": "stream",
     "text": [
      "Enter the °F temperature to convert to °C:63\n",
      "The Fahrenheit temperature of 63°F, is 17.22°C in Degree Celcius\n"
     ]
    }
   ],
   "source": [
    "Solar_info.temp_conversion()"
   ]
  },
  {
   "cell_type": "code",
   "execution_count": 73,
   "id": "c0d5f0cf",
   "metadata": {},
   "outputs": [
    {
     "name": "stdout",
     "output_type": "stream",
     "text": [
      "Enter the wind value:53\n",
      "The wind direction is 53.0°NE\n"
     ]
    }
   ],
   "source": [
    "Solar_info.wind_direction()"
   ]
  },
  {
   "attachments": {
    "image-2.png": {
     "image/png": "[encoded data removed]"
    }
   },
   "cell_type": "markdown",
   "id": "c8369f4e",
   "metadata": {},
   "source": [
    "## Future Code Recommendation\n",
    "- Create input user function:\n",
    "  - Access data with 2 columns and return other data:\n",
    "      - Get 2 input from the user: date and time from the columns\n",
    "      - if date and time match in any row, \n",
    "      - return to user the temperature or radiation or humidity or any kind of information from the respective columns\n",
    "  - Function that can plot info given by user:\n",
    "      - User type 'Average of Temperature'\n",
    "      - function return Average of temperature in term of plot/graph\n",
    "\n",
    "- Create plot of Wind Direction and Wind Speed. \n",
    "  - use wind Rose plot type: \n",
    "  - Reference: *image was taken from google\n",
    "  ![image-2.png](attachment:image-2.png)\n",
    "\n",
    "\n",
    "\n",
    "##### Nurfarah binti Jaafar"
   ]
  }
 ],
 "metadata": {
  "kernelspec": {
   "display_name": "Python 3",
   "language": "python",
   "name": "python3"
  },
  "language_info": {
   "codemirror_mode": {
    "name": "ipython",
    "version": 3
   },
   "file_extension": ".py",
   "mimetype": "text/x-python",
   "name": "python",
   "nbconvert_exporter": "python",
   "pygments_lexer": "ipython3",
   "version": "3.8.8"
  }
 },
 "nbformat": 4,
 "nbformat_minor": 5
}
